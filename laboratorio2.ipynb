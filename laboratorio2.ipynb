{
 "cells": [
  {
   "attachments": {},
   "cell_type": "markdown",
   "metadata": {},
   "source": [
    "- Jose Pablo Ponce 19092\n",
    "- Gabriel Quiroz"
   ]
  },
  {
   "cell_type": "code",
   "execution_count": 173,
   "metadata": {},
   "outputs": [],
   "source": [
    "#Importar las librerías\n",
    "\n",
    "import pandas as pd\n",
    "import numpy as np\n",
    "import re\n",
    "from collections import Counter\n",
    "from sklearn import feature_extraction, tree, model_selection, metrics\n",
    "import matplotlib.pyplot as plt\n",
    "import matplotlib\n",
    "import seaborn as sns\n",
    "%matplotlib inline\n",
    "from yellowbrick.features import Rank2D\n",
    "from yellowbrick.features import RadViz"
   ]
  },
  {
   "attachments": {},
   "cell_type": "markdown",
   "metadata": {},
   "source": [
    "## Parte 1 – Ingeniería de características\n"
   ]
  },
  {
   "attachments": {},
   "cell_type": "markdown",
   "metadata": {},
   "source": [
    "## Exploración de datos\n"
   ]
  },
  {
   "attachments": {},
   "cell_type": "markdown",
   "metadata": {},
   "source": [
    "Revise la data y realice las operaciones necesarias para unificar los datasets y que el dataset final contenga el mensaje del correo y la etiqueta que indique si es SPAM o no."
   ]
  },
  {
   "cell_type": "code",
   "execution_count": 174,
   "metadata": {},
   "outputs": [],
   "source": [
    "df1 = pd.read_csv('./completeSpamAssassin.csv/completeSpamAssassin.csv')  \n",
    "df2 = pd.read_csv('./enronSpamSubset.csv/enronSpamSubset.csv')  "
   ]
  },
  {
   "cell_type": "code",
   "execution_count": 175,
   "metadata": {},
   "outputs": [],
   "source": [
    "pd.options.display.max_colwidth = 200"
   ]
  },
  {
   "cell_type": "code",
   "execution_count": 176,
   "metadata": {},
   "outputs": [
    {
     "name": "stdout",
     "output_type": "stream",
     "text": [
      "      Unnamed: 0  \\\n",
      "2831        2831   \n",
      "22            22   \n",
      "3005        3005   \n",
      "1520        1520   \n",
      "552          552   \n",
      "\n",
      "                                                                                                                                                                                                         Body  \\\n",
      "2831  Hardware acceleration for SSL makes sense since PKI can slow down a\\ntransaction by as much as 1,000-fold. Per this article, XML formatting only\\nincreases doc size by about 20-fold.. I'm not sure...   \n",
      "22                                                                                                                                                                                                      empty   \n",
      "3005  Hi,Just the kind of announce I make once in a while :\\n- I've rebuilt a new \"alsaplayer\" package based on Angle's one.\\n- I've rebuilt a hopefully final version \"-fr8\" of the \"alsa-driver\" and\\n  ...   \n",
      "1520  Long time no chat!How have you been? If you've been like me, you've been trying\\ntrying almost EVERYTHING to lose weight.Â  I know how you feel\\n- the special diets, miracle pills, and fancy exerc...   \n",
      "552   \\nHave you checked your personal credit reports recently?If you are planning making any major purchase like purchasing a Home or \\nnewcar or getting a new job or even a promotion, Please....read o...   \n",
      "\n",
      "      Label  \n",
      "2831      0  \n",
      "22        1  \n",
      "3005      0  \n",
      "1520      1  \n",
      "552       1  \n"
     ]
    }
   ],
   "source": [
    "print(df1.sample(n=5).head())\n"
   ]
  },
  {
   "cell_type": "code",
   "execution_count": 177,
   "metadata": {},
   "outputs": [
    {
     "name": "stdout",
     "output_type": "stream",
     "text": [
      "      Unnamed: 0.1  Unnamed: 0  \\\n",
      "5069         29751       29751   \n",
      "6490         33244       33244   \n",
      "1241         12670       12670   \n",
      "6581         18836       18836   \n",
      "1710         10603       10603   \n",
      "\n",
      "                                                                                                                                                                                                         Body  \\\n",
      "5069  Subject: start date : 1 / 5 / 02 ; hourahead hour : 17 ;\\n start date : 1 / 5 / 02 ; hourahead hour : 17 ; no ancillary schedules awarded . no variances detected .\\n log messages :\\n parsing file ...   \n",
      "6490  Subject: re : tw unsubscribed capacity\\n i added an extra \" printable page \" button on the page so that the entire page can be printed out .\\n michelle , please let me know if you still have probl...   \n",
      "1241  Subject: site update mon , 27 jun 2005 .\\n subject : site update mon , 27 jun 2005 .\\n thank you for using our online store and for your previous order . we have updated our online software store ...   \n",
      "6581  Subject: manager coaching program\\n d - - fyi .\\n - - - - - - - - - - - - - - - - - - - - - - forwarded by brenda f herod / hou / ect on 03 / 06 / 2000\\n 09 : 23 am - - - - - - - - - - - - - - - -...   \n",
      "1710  Subject: miss \\ / allium , vlaagrra , somma , zol 0 ft , xanaa , claal 1 s charset = iso - 8859 - 1 \" >\\n along arm again , advantage wife evening reference free , advantage similar showed .\\n dis...   \n",
      "\n",
      "      Label  \n",
      "5069      0  \n",
      "6490      0  \n",
      "1241      1  \n",
      "6581      0  \n",
      "1710      1  \n"
     ]
    }
   ],
   "source": [
    "print(df2.sample(n=5).head())"
   ]
  },
  {
   "cell_type": "code",
   "execution_count": 178,
   "metadata": {},
   "outputs": [
    {
     "name": "stdout",
     "output_type": "stream",
     "text": [
      "Index(['Body', 'Label'], dtype='object')\n",
      "Index(['Body', 'Label'], dtype='object')\n"
     ]
    }
   ],
   "source": [
    "df1 = df1.drop(columns=['Unnamed: 0'])\n",
    "df2 = df2.drop(columns=['Unnamed: 0.1', 'Unnamed: 0'])\n",
    "print(df1.columns)\n",
    "print(df2.columns)"
   ]
  },
  {
   "cell_type": "code",
   "execution_count": 188,
   "metadata": {},
   "outputs": [
    {
     "data": {
      "text/html": [
       "<div>\n",
       "<style scoped>\n",
       "    .dataframe tbody tr th:only-of-type {\n",
       "        vertical-align: middle;\n",
       "    }\n",
       "\n",
       "    .dataframe tbody tr th {\n",
       "        vertical-align: top;\n",
       "    }\n",
       "\n",
       "    .dataframe thead th {\n",
       "        text-align: right;\n",
       "    }\n",
       "</style>\n",
       "<table border=\"1\" class=\"dataframe\">\n",
       "  <thead>\n",
       "    <tr style=\"text-align: right;\">\n",
       "      <th></th>\n",
       "      <th>Body</th>\n",
       "      <th>Spam</th>\n",
       "    </tr>\n",
       "  </thead>\n",
       "  <tbody>\n",
       "    <tr>\n",
       "      <th>2295</th>\n",
       "      <td>Subject: you don _ t know how to get into search engine results ?\\n submitting your website in search engines may increase\\n your online sales dramatically .\\n lf you invested time and money into ...</td>\n",
       "      <td>1</td>\n",
       "    </tr>\n",
       "    <tr>\n",
       "      <th>2393</th>\n",
       "      <td>On Sun, 8 Sep 2002, Gordon Mohr wrote:&gt; OK, then. Consider a population of 1,000,000. 500,000 men each\\n&gt; pair off with 500,000 women. Then, 1 man, let's call him \"Wilt\",\\n&gt; also has sex with the ...</td>\n",
       "      <td>0</td>\n",
       "    </tr>\n",
       "    <tr>\n",
       "      <th>4409</th>\n",
       "      <td>Hi all, I posted the below question to this list so I thought I'd update you\\nall. Thanks for your suggestions.Well, I'd decided to bite the bullet and spend big on a new case and CPU\\nfan.I bough...</td>\n",
       "      <td>0</td>\n",
       "    </tr>\n",
       "    <tr>\n",
       "      <th>1585</th>\n",
       "      <td>Subject: logo , stationer , website design and so much more !\\n lt is really hard to recollect a company : the\\n market is full of suqgestions and the information isoverwhelminq ; but a good\\n cat...</td>\n",
       "      <td>1</td>\n",
       "    </tr>\n",
       "    <tr>\n",
       "      <th>5961</th>\n",
       "      <td>You are receiving this email because you signed up to \\nreceive one of our free reports. If you would prefer \\nnot to receive messages of this type, please \\nunsubscribe by following the instructi...</td>\n",
       "      <td>0</td>\n",
       "    </tr>\n",
       "  </tbody>\n",
       "</table>\n",
       "</div>"
      ],
      "text/plain": [
       "                                                                                                                                                                                                         Body  \\\n",
       "2295  Subject: you don _ t know how to get into search engine results ?\\n submitting your website in search engines may increase\\n your online sales dramatically .\\n lf you invested time and money into ...   \n",
       "2393  On Sun, 8 Sep 2002, Gordon Mohr wrote:> OK, then. Consider a population of 1,000,000. 500,000 men each\\n> pair off with 500,000 women. Then, 1 man, let's call him \"Wilt\",\\n> also has sex with the ...   \n",
       "4409  Hi all, I posted the below question to this list so I thought I'd update you\\nall. Thanks for your suggestions.Well, I'd decided to bite the bullet and spend big on a new case and CPU\\nfan.I bough...   \n",
       "1585  Subject: logo , stationer , website design and so much more !\\n lt is really hard to recollect a company : the\\n market is full of suqgestions and the information isoverwhelminq ; but a good\\n cat...   \n",
       "5961  You are receiving this email because you signed up to \\nreceive one of our free reports. If you would prefer \\nnot to receive messages of this type, please \\nunsubscribe by following the instructi...   \n",
       "\n",
       "      Spam  \n",
       "2295     1  \n",
       "2393     0  \n",
       "4409     0  \n",
       "1585     1  \n",
       "5961     0  "
      ]
     },
     "execution_count": 188,
     "metadata": {},
     "output_type": "execute_result"
    }
   ],
   "source": [
    "df_final = pd.concat([df1, df2])\n",
    "df_final = df_final.rename(columns={\"Label\": \"Spam\"})\n",
    "df_final.sample(n=5).head() \n"
   ]
  },
  {
   "attachments": {},
   "cell_type": "markdown",
   "metadata": {},
   "source": [
    "## Preprocesamiento"
   ]
  },
  {
   "attachments": {},
   "cell_type": "markdown",
   "metadata": {},
   "source": [
    "Aplique las técnicas de pre – procesamiento de lenguaje natural que considere necesarias \n",
    "(conversión de minúsculas, mayúsculas, eliminación de acentos, expansión de contracciones, eliminación de stop\n",
    "words, etc.)"
   ]
  },
  {
   "cell_type": "code",
   "execution_count": 189,
   "metadata": {},
   "outputs": [],
   "source": [
    "#removemos espacios al inicio y final\n",
    "df_final['Body'] = df_final['Body'].str.strip()"
   ]
  },
  {
   "cell_type": "code",
   "execution_count": 190,
   "metadata": {},
   "outputs": [],
   "source": [
    "#conversion a minusculas\n",
    "df_final['Body'] = df_final['Body'].str.lower()\n"
   ]
  },
  {
   "cell_type": "code",
   "execution_count": 191,
   "metadata": {},
   "outputs": [],
   "source": [
    "#remover acentos\n",
    "df_final['Body'] = df_final['Body'].str.normalize('NFKD').str.encode('ascii', errors='ignore').str.decode('utf-8')\n"
   ]
  },
  {
   "cell_type": "code",
   "execution_count": 192,
   "metadata": {},
   "outputs": [],
   "source": [
    "#expandir contracciones\n",
    "import contractions\n",
    "df_final[\"Body\"] = df_final[\"Body\"].apply(lambda x: contractions.fix(str(x)))"
   ]
  },
  {
   "cell_type": "code",
   "execution_count": 193,
   "metadata": {},
   "outputs": [],
   "source": [
    "#eliminar caracteres especiales, numeros y simbolos\n",
    "import re\n",
    "def removerCaracteresEspecialesNumerosSimbolos(texto, removerDigitos =False):\n",
    "    patron = r'[^a-zA-Z0-9\\s]' if not removerDigitos else r'[^a-zA-Z\\s]'\n",
    "    texto = re.sub(patron,'', texto)\n",
    "    return texto\n",
    "oracion = 'Hoy es el partido de fútbol a las 7:45 @$%&'\n",
    "\n",
    "df_final[\"Body\"] = df_final[\"Body\"].apply(lambda x: removerCaracteresEspecialesNumerosSimbolos(x, True))\n"
   ]
  },
  {
   "cell_type": "code",
   "execution_count": 194,
   "metadata": {},
   "outputs": [
    {
     "name": "stderr",
     "output_type": "stream",
     "text": [
      "[nltk_data] Downloading package stopwords to\n",
      "[nltk_data]     C:\\Users\\joopa\\AppData\\Roaming\\nltk_data...\n",
      "[nltk_data]   Package stopwords is already up-to-date!\n",
      "[nltk_data] Downloading package punkt to\n",
      "[nltk_data]     C:\\Users\\joopa\\AppData\\Roaming\\nltk_data...\n",
      "[nltk_data]   Package punkt is already up-to-date!\n"
     ]
    },
    {
     "data": {
      "text/plain": [
       "True"
      ]
     },
     "execution_count": 194,
     "metadata": {},
     "output_type": "execute_result"
    }
   ],
   "source": [
    "import nltk\n",
    "nltk.download('stopwords')\n",
    "nltk.download('punkt')\n",
    "\n"
   ]
  },
  {
   "cell_type": "code",
   "execution_count": 195,
   "metadata": {},
   "outputs": [],
   "source": [
    "#eliminar stop words\n",
    "stop_words = nltk.corpus.stopwords.words('english')\n",
    "df_final[\"Body\"]= df_final[\"Body\"].apply(lambda words: ' '.join(word.lower() for word in words.split() if word not in stop_words))\n"
   ]
  },
  {
   "cell_type": "code",
   "execution_count": 196,
   "metadata": {},
   "outputs": [
    {
     "data": {
      "text/html": [
       "<div>\n",
       "<style scoped>\n",
       "    .dataframe tbody tr th:only-of-type {\n",
       "        vertical-align: middle;\n",
       "    }\n",
       "\n",
       "    .dataframe tbody tr th {\n",
       "        vertical-align: top;\n",
       "    }\n",
       "\n",
       "    .dataframe thead th {\n",
       "        text-align: right;\n",
       "    }\n",
       "</style>\n",
       "<table border=\"1\" class=\"dataframe\">\n",
       "  <thead>\n",
       "    <tr style=\"text-align: right;\">\n",
       "      <th></th>\n",
       "      <th>Body</th>\n",
       "      <th>Spam</th>\n",
       "    </tr>\n",
       "  </thead>\n",
       "  <tbody>\n",
       "    <tr>\n",
       "      <th>2829</th>\n",
       "      <td>stateful would seem worth effort although guess might help ddos attackssounds snakeoilish biased lots experience firewalls proxy servers limitations thereofken original message rohit khare mailtok...</td>\n",
       "      <td>0</td>\n",
       "    </tr>\n",
       "    <tr>\n",
       "      <th>2027</th>\n",
       "      <td>subject story stetson pleasant destroy weller melanie lame northern bulwark evocation chromatin n l n e n v e r p l e g r e e obtain diploma degree master send certificate countries worldwide cons...</td>\n",
       "      <td>1</td>\n",
       "    </tr>\n",
       "    <tr>\n",
       "      <th>582</th>\n",
       "      <td>subject free glucose meter enroll today see qualify free glucose meter ship diabetic testing supplies direct door free home delivery bill insurance medicare visit http www diabetesecare com veloznet</td>\n",
       "      <td>1</td>\n",
       "    </tr>\n",
       "    <tr>\n",
       "      <th>3608</th>\n",
       "      <td>also identified spam everything inbox mime structure html parts several messages saved zope geeks list happened using mime andor html know strangest implied claim hates mime independent html examp...</td>\n",
       "      <td>0</td>\n",
       "    </tr>\n",
       "    <tr>\n",
       "      <th>4516</th>\n",
       "      <td>actually though case sensitive seems trouble wtih papchap authentication well might scripton friday july liam bedford wrote fri jul hamiltondavid hpirelandex claiming think hi trying find oceanfre...</td>\n",
       "      <td>0</td>\n",
       "    </tr>\n",
       "  </tbody>\n",
       "</table>\n",
       "</div>"
      ],
      "text/plain": [
       "                                                                                                                                                                                                         Body  \\\n",
       "2829  stateful would seem worth effort although guess might help ddos attackssounds snakeoilish biased lots experience firewalls proxy servers limitations thereofken original message rohit khare mailtok...   \n",
       "2027  subject story stetson pleasant destroy weller melanie lame northern bulwark evocation chromatin n l n e n v e r p l e g r e e obtain diploma degree master send certificate countries worldwide cons...   \n",
       "582    subject free glucose meter enroll today see qualify free glucose meter ship diabetic testing supplies direct door free home delivery bill insurance medicare visit http www diabetesecare com veloznet   \n",
       "3608  also identified spam everything inbox mime structure html parts several messages saved zope geeks list happened using mime andor html know strangest implied claim hates mime independent html examp...   \n",
       "4516  actually though case sensitive seems trouble wtih papchap authentication well might scripton friday july liam bedford wrote fri jul hamiltondavid hpirelandex claiming think hi trying find oceanfre...   \n",
       "\n",
       "      Spam  \n",
       "2829     0  \n",
       "2027     1  \n",
       "582      1  \n",
       "3608     0  \n",
       "4516     0  "
      ]
     },
     "execution_count": 196,
     "metadata": {},
     "output_type": "execute_result"
    }
   ],
   "source": [
    "df_final.sample(n=5).head() \n"
   ]
  },
  {
   "attachments": {},
   "cell_type": "markdown",
   "metadata": {},
   "source": [
    "## Representación de texto\n"
   ]
  },
  {
   "attachments": {},
   "cell_type": "markdown",
   "metadata": {},
   "source": [
    "Utilice los modelos de BoG (para n = 1,2) y TF-IDF. Muestre algunos ejemplos de los mensajes en su\n",
    "representación numérica."
   ]
  },
  {
   "attachments": {},
   "cell_type": "markdown",
   "metadata": {},
   "source": [
    "### Modelo Bag of Words"
   ]
  },
  {
   "cell_type": "code",
   "execution_count": 197,
   "metadata": {},
   "outputs": [
    {
     "data": {
      "text/plain": [
       "array([[3, 1, 1, ..., 0, 0, 0],\n",
       "       [0, 1, 2, ..., 0, 0, 0],\n",
       "       [0, 1, 1, ..., 0, 0, 0],\n",
       "       ...,\n",
       "       [0, 0, 0, ..., 2, 0, 0],\n",
       "       [0, 0, 0, ..., 1, 0, 0],\n",
       "       [3, 0, 0, ..., 1, 0, 1]], dtype=int64)"
      ]
     },
     "execution_count": 197,
     "metadata": {},
     "output_type": "execute_result"
    }
   ],
   "source": [
    "from sklearn.feature_extraction.text import CountVectorizer\n",
    "\n",
    "cv = CountVectorizer(min_df=0.2, max_df=0.8)\n",
    "# Min_df y Max_df nos sirven para controlar el porcentaje mínimo y máximo de apariciones de un token\n",
    "cv_matrix = cv.fit_transform(df_final[\"Body\"])\n",
    "cv_matrix = cv_matrix.toarray()\n",
    "cv_matrix"
   ]
  },
  {
   "cell_type": "code",
   "execution_count": 200,
   "metadata": {},
   "outputs": [
    {
     "name": "stderr",
     "output_type": "stream",
     "text": [
      "C:\\Users\\joopa\\AppData\\Roaming\\Python\\Python39\\site-packages\\sklearn\\utils\\deprecation.py:87: FutureWarning: Function get_feature_names is deprecated; get_feature_names is deprecated in 1.0 and will be removed in 1.2. Please use get_feature_names_out instead.\n",
      "  warnings.warn(msg, category=FutureWarning)\n"
     ]
    }
   ],
   "source": [
    "# Palabras únicas del corpus\n",
    "vocabulario = cv.get_feature_names()\n",
    "# Mostrar el vector\n",
    "df_cv_BagOfWords = pd.DataFrame(cv_matrix, columns=vocabulario)"
   ]
  },
  {
   "cell_type": "code",
   "execution_count": 201,
   "metadata": {},
   "outputs": [
    {
     "data": {
      "text/html": [
       "<div>\n",
       "<style scoped>\n",
       "    .dataframe tbody tr th:only-of-type {\n",
       "        vertical-align: middle;\n",
       "    }\n",
       "\n",
       "    .dataframe tbody tr th {\n",
       "        vertical-align: top;\n",
       "    }\n",
       "\n",
       "    .dataframe thead th {\n",
       "        text-align: right;\n",
       "    }\n",
       "</style>\n",
       "<table border=\"1\" class=\"dataframe\">\n",
       "  <thead>\n",
       "    <tr style=\"text-align: right;\">\n",
       "      <th></th>\n",
       "      <th>email</th>\n",
       "      <th>get</th>\n",
       "      <th>list</th>\n",
       "      <th>new</th>\n",
       "      <th>one</th>\n",
       "      <th>please</th>\n",
       "      <th>subject</th>\n",
       "      <th>time</th>\n",
       "      <th>would</th>\n",
       "    </tr>\n",
       "  </thead>\n",
       "  <tbody>\n",
       "    <tr>\n",
       "      <th>0</th>\n",
       "      <td>3</td>\n",
       "      <td>1</td>\n",
       "      <td>1</td>\n",
       "      <td>1</td>\n",
       "      <td>0</td>\n",
       "      <td>2</td>\n",
       "      <td>0</td>\n",
       "      <td>0</td>\n",
       "      <td>0</td>\n",
       "    </tr>\n",
       "    <tr>\n",
       "      <th>1</th>\n",
       "      <td>0</td>\n",
       "      <td>1</td>\n",
       "      <td>2</td>\n",
       "      <td>0</td>\n",
       "      <td>0</td>\n",
       "      <td>1</td>\n",
       "      <td>0</td>\n",
       "      <td>0</td>\n",
       "      <td>0</td>\n",
       "    </tr>\n",
       "    <tr>\n",
       "      <th>2</th>\n",
       "      <td>0</td>\n",
       "      <td>1</td>\n",
       "      <td>1</td>\n",
       "      <td>0</td>\n",
       "      <td>0</td>\n",
       "      <td>1</td>\n",
       "      <td>0</td>\n",
       "      <td>0</td>\n",
       "      <td>0</td>\n",
       "    </tr>\n",
       "    <tr>\n",
       "      <th>3</th>\n",
       "      <td>1</td>\n",
       "      <td>2</td>\n",
       "      <td>0</td>\n",
       "      <td>1</td>\n",
       "      <td>3</td>\n",
       "      <td>1</td>\n",
       "      <td>0</td>\n",
       "      <td>0</td>\n",
       "      <td>0</td>\n",
       "    </tr>\n",
       "    <tr>\n",
       "      <th>4</th>\n",
       "      <td>0</td>\n",
       "      <td>1</td>\n",
       "      <td>2</td>\n",
       "      <td>0</td>\n",
       "      <td>0</td>\n",
       "      <td>1</td>\n",
       "      <td>0</td>\n",
       "      <td>0</td>\n",
       "      <td>0</td>\n",
       "    </tr>\n",
       "  </tbody>\n",
       "</table>\n",
       "</div>"
      ],
      "text/plain": [
       "   email  get  list  new  one  please  subject  time  would\n",
       "0      3    1     1    1    0       2        0     0      0\n",
       "1      0    1     2    0    0       1        0     0      0\n",
       "2      0    1     1    0    0       1        0     0      0\n",
       "3      1    2     0    1    3       1        0     0      0\n",
       "4      0    1     2    0    0       1        0     0      0"
      ]
     },
     "execution_count": 201,
     "metadata": {},
     "output_type": "execute_result"
    }
   ],
   "source": [
    "df_cv_BagOfWords.head()"
   ]
  },
  {
   "attachments": {},
   "cell_type": "markdown",
   "metadata": {},
   "source": [
    "### Modelo Bag of N-Grams"
   ]
  },
  {
   "cell_type": "code",
   "execution_count": 211,
   "metadata": {},
   "outputs": [
    {
     "name": "stderr",
     "output_type": "stream",
     "text": [
      "C:\\Users\\joopa\\AppData\\Roaming\\Python\\Python39\\site-packages\\sklearn\\utils\\deprecation.py:87: FutureWarning: Function get_feature_names is deprecated; get_feature_names is deprecated in 1.0 and will be removed in 1.2. Please use get_feature_names_out instead.\n",
      "  warnings.warn(msg, category=FutureWarning)\n"
     ]
    }
   ],
   "source": [
    "bv = CountVectorizer(ngram_range=(1,2), min_df=0.1, max_df=0.9)\n",
    "bv_matrix = bv.fit_transform(df_final2[\"Body\"])\n",
    "\n",
    "bv_matrix = bv_matrix.toarray()\n",
    "vocabulario = bv.get_feature_names()\n",
    "df_cv_BagOfNGrams = pd.DataFrame(bv_matrix, columns=vocabulario)"
   ]
  },
  {
   "cell_type": "code",
   "execution_count": 212,
   "metadata": {},
   "outputs": [
    {
     "data": {
      "text/html": [
       "<div>\n",
       "<style scoped>\n",
       "    .dataframe tbody tr th:only-of-type {\n",
       "        vertical-align: middle;\n",
       "    }\n",
       "\n",
       "    .dataframe tbody tr th {\n",
       "        vertical-align: top;\n",
       "    }\n",
       "\n",
       "    .dataframe thead th {\n",
       "        text-align: right;\n",
       "    }\n",
       "</style>\n",
       "<table border=\"1\" class=\"dataframe\">\n",
       "  <thead>\n",
       "    <tr style=\"text-align: right;\">\n",
       "      <th></th>\n",
       "      <th>10</th>\n",
       "      <th>2000</th>\n",
       "      <th>2002</th>\n",
       "      <th>also</th>\n",
       "      <th>best</th>\n",
       "      <th>business</th>\n",
       "      <th>cc</th>\n",
       "      <th>click</th>\n",
       "      <th>com</th>\n",
       "      <th>company</th>\n",
       "      <th>...</th>\n",
       "      <th>thanks</th>\n",
       "      <th>time</th>\n",
       "      <th>today</th>\n",
       "      <th>us</th>\n",
       "      <th>use</th>\n",
       "      <th>want</th>\n",
       "      <th>way</th>\n",
       "      <th>well</th>\n",
       "      <th>work</th>\n",
       "      <th>would</th>\n",
       "    </tr>\n",
       "  </thead>\n",
       "  <tbody>\n",
       "    <tr>\n",
       "      <th>0</th>\n",
       "      <td>0</td>\n",
       "      <td>0</td>\n",
       "      <td>0</td>\n",
       "      <td>0</td>\n",
       "      <td>3</td>\n",
       "      <td>0</td>\n",
       "      <td>0</td>\n",
       "      <td>2</td>\n",
       "      <td>0</td>\n",
       "      <td>0</td>\n",
       "      <td>...</td>\n",
       "      <td>0</td>\n",
       "      <td>0</td>\n",
       "      <td>0</td>\n",
       "      <td>1</td>\n",
       "      <td>0</td>\n",
       "      <td>0</td>\n",
       "      <td>0</td>\n",
       "      <td>0</td>\n",
       "      <td>0</td>\n",
       "      <td>0</td>\n",
       "    </tr>\n",
       "    <tr>\n",
       "      <th>1</th>\n",
       "      <td>0</td>\n",
       "      <td>0</td>\n",
       "      <td>0</td>\n",
       "      <td>0</td>\n",
       "      <td>0</td>\n",
       "      <td>0</td>\n",
       "      <td>0</td>\n",
       "      <td>0</td>\n",
       "      <td>0</td>\n",
       "      <td>0</td>\n",
       "      <td>...</td>\n",
       "      <td>0</td>\n",
       "      <td>0</td>\n",
       "      <td>0</td>\n",
       "      <td>0</td>\n",
       "      <td>1</td>\n",
       "      <td>0</td>\n",
       "      <td>0</td>\n",
       "      <td>0</td>\n",
       "      <td>0</td>\n",
       "      <td>0</td>\n",
       "    </tr>\n",
       "    <tr>\n",
       "      <th>2</th>\n",
       "      <td>0</td>\n",
       "      <td>0</td>\n",
       "      <td>0</td>\n",
       "      <td>0</td>\n",
       "      <td>0</td>\n",
       "      <td>0</td>\n",
       "      <td>0</td>\n",
       "      <td>0</td>\n",
       "      <td>0</td>\n",
       "      <td>0</td>\n",
       "      <td>...</td>\n",
       "      <td>0</td>\n",
       "      <td>0</td>\n",
       "      <td>0</td>\n",
       "      <td>0</td>\n",
       "      <td>1</td>\n",
       "      <td>0</td>\n",
       "      <td>0</td>\n",
       "      <td>0</td>\n",
       "      <td>0</td>\n",
       "      <td>0</td>\n",
       "    </tr>\n",
       "    <tr>\n",
       "      <th>3</th>\n",
       "      <td>0</td>\n",
       "      <td>0</td>\n",
       "      <td>0</td>\n",
       "      <td>0</td>\n",
       "      <td>3</td>\n",
       "      <td>0</td>\n",
       "      <td>0</td>\n",
       "      <td>1</td>\n",
       "      <td>0</td>\n",
       "      <td>0</td>\n",
       "      <td>...</td>\n",
       "      <td>0</td>\n",
       "      <td>0</td>\n",
       "      <td>0</td>\n",
       "      <td>1</td>\n",
       "      <td>0</td>\n",
       "      <td>0</td>\n",
       "      <td>0</td>\n",
       "      <td>0</td>\n",
       "      <td>0</td>\n",
       "      <td>0</td>\n",
       "    </tr>\n",
       "    <tr>\n",
       "      <th>4</th>\n",
       "      <td>0</td>\n",
       "      <td>0</td>\n",
       "      <td>0</td>\n",
       "      <td>0</td>\n",
       "      <td>0</td>\n",
       "      <td>0</td>\n",
       "      <td>0</td>\n",
       "      <td>0</td>\n",
       "      <td>0</td>\n",
       "      <td>0</td>\n",
       "      <td>...</td>\n",
       "      <td>0</td>\n",
       "      <td>0</td>\n",
       "      <td>0</td>\n",
       "      <td>0</td>\n",
       "      <td>1</td>\n",
       "      <td>0</td>\n",
       "      <td>0</td>\n",
       "      <td>0</td>\n",
       "      <td>0</td>\n",
       "      <td>0</td>\n",
       "    </tr>\n",
       "  </tbody>\n",
       "</table>\n",
       "<p>5 rows × 53 columns</p>\n",
       "</div>"
      ],
      "text/plain": [
       "   10  2000  2002  also  best  business  cc  click  com  company  ...  thanks  \\\n",
       "0   0     0     0     0     3         0   0      2    0        0  ...       0   \n",
       "1   0     0     0     0     0         0   0      0    0        0  ...       0   \n",
       "2   0     0     0     0     0         0   0      0    0        0  ...       0   \n",
       "3   0     0     0     0     3         0   0      1    0        0  ...       0   \n",
       "4   0     0     0     0     0         0   0      0    0        0  ...       0   \n",
       "\n",
       "   time  today  us  use  want  way  well  work  would  \n",
       "0     0      0   1    0     0    0     0     0      0  \n",
       "1     0      0   0    1     0    0     0     0      0  \n",
       "2     0      0   0    1     0    0     0     0      0  \n",
       "3     0      0   1    0     0    0     0     0      0  \n",
       "4     0      0   0    1     0    0     0     0      0  \n",
       "\n",
       "[5 rows x 53 columns]"
      ]
     },
     "execution_count": 212,
     "metadata": {},
     "output_type": "execute_result"
    }
   ],
   "source": [
    "df_cv_BagOfNGrams.head()"
   ]
  },
  {
   "attachments": {},
   "cell_type": "markdown",
   "metadata": {},
   "source": [
    "### Modelo TF -IDF"
   ]
  },
  {
   "cell_type": "code",
   "execution_count": 221,
   "metadata": {},
   "outputs": [
    {
     "name": "stderr",
     "output_type": "stream",
     "text": [
      "C:\\Users\\joopa\\AppData\\Roaming\\Python\\Python39\\site-packages\\sklearn\\utils\\deprecation.py:87: FutureWarning: Function get_feature_names is deprecated; get_feature_names is deprecated in 1.0 and will be removed in 1.2. Please use get_feature_names_out instead.\n",
      "  warnings.warn(msg, category=FutureWarning)\n"
     ]
    }
   ],
   "source": [
    "from sklearn.feature_extraction.text import TfidfVectorizer\n",
    "\n",
    "tv = TfidfVectorizer(min_df=0.1, max_df=0.9, use_idf=True)\n",
    "tv_matrix = tv.fit_transform(df_final2[\"Body\"])\n",
    "tv_matrix = tv_matrix.toarray()\n",
    "\n",
    "vocabulario = tv.get_feature_names()\n",
    "df_cv_TFIDF = pd.DataFrame(np.round(tv_matrix, 2), columns=vocabulario)"
   ]
  },
  {
   "cell_type": "code",
   "execution_count": 222,
   "metadata": {},
   "outputs": [
    {
     "data": {
      "text/html": [
       "<div>\n",
       "<style scoped>\n",
       "    .dataframe tbody tr th:only-of-type {\n",
       "        vertical-align: middle;\n",
       "    }\n",
       "\n",
       "    .dataframe tbody tr th {\n",
       "        vertical-align: top;\n",
       "    }\n",
       "\n",
       "    .dataframe thead th {\n",
       "        text-align: right;\n",
       "    }\n",
       "</style>\n",
       "<table border=\"1\" class=\"dataframe\">\n",
       "  <thead>\n",
       "    <tr style=\"text-align: right;\">\n",
       "      <th></th>\n",
       "      <th>10</th>\n",
       "      <th>2000</th>\n",
       "      <th>2002</th>\n",
       "      <th>also</th>\n",
       "      <th>best</th>\n",
       "      <th>business</th>\n",
       "      <th>cc</th>\n",
       "      <th>click</th>\n",
       "      <th>com</th>\n",
       "      <th>company</th>\n",
       "      <th>...</th>\n",
       "      <th>thanks</th>\n",
       "      <th>time</th>\n",
       "      <th>today</th>\n",
       "      <th>us</th>\n",
       "      <th>use</th>\n",
       "      <th>want</th>\n",
       "      <th>way</th>\n",
       "      <th>well</th>\n",
       "      <th>work</th>\n",
       "      <th>would</th>\n",
       "    </tr>\n",
       "  </thead>\n",
       "  <tbody>\n",
       "    <tr>\n",
       "      <th>0</th>\n",
       "      <td>0.0</td>\n",
       "      <td>0.0</td>\n",
       "      <td>0.0</td>\n",
       "      <td>0.0</td>\n",
       "      <td>0.50</td>\n",
       "      <td>0.0</td>\n",
       "      <td>0.0</td>\n",
       "      <td>0.34</td>\n",
       "      <td>0.0</td>\n",
       "      <td>0.0</td>\n",
       "      <td>...</td>\n",
       "      <td>0.0</td>\n",
       "      <td>0.0</td>\n",
       "      <td>0.0</td>\n",
       "      <td>0.15</td>\n",
       "      <td>0.00</td>\n",
       "      <td>0.0</td>\n",
       "      <td>0.0</td>\n",
       "      <td>0.0</td>\n",
       "      <td>0.0</td>\n",
       "      <td>0.0</td>\n",
       "    </tr>\n",
       "    <tr>\n",
       "      <th>1</th>\n",
       "      <td>0.0</td>\n",
       "      <td>0.0</td>\n",
       "      <td>0.0</td>\n",
       "      <td>0.0</td>\n",
       "      <td>0.00</td>\n",
       "      <td>0.0</td>\n",
       "      <td>0.0</td>\n",
       "      <td>0.00</td>\n",
       "      <td>0.0</td>\n",
       "      <td>0.0</td>\n",
       "      <td>...</td>\n",
       "      <td>0.0</td>\n",
       "      <td>0.0</td>\n",
       "      <td>0.0</td>\n",
       "      <td>0.00</td>\n",
       "      <td>0.32</td>\n",
       "      <td>0.0</td>\n",
       "      <td>0.0</td>\n",
       "      <td>0.0</td>\n",
       "      <td>0.0</td>\n",
       "      <td>0.0</td>\n",
       "    </tr>\n",
       "    <tr>\n",
       "      <th>2</th>\n",
       "      <td>0.0</td>\n",
       "      <td>0.0</td>\n",
       "      <td>0.0</td>\n",
       "      <td>0.0</td>\n",
       "      <td>0.00</td>\n",
       "      <td>0.0</td>\n",
       "      <td>0.0</td>\n",
       "      <td>0.00</td>\n",
       "      <td>0.0</td>\n",
       "      <td>0.0</td>\n",
       "      <td>...</td>\n",
       "      <td>0.0</td>\n",
       "      <td>0.0</td>\n",
       "      <td>0.0</td>\n",
       "      <td>0.00</td>\n",
       "      <td>0.43</td>\n",
       "      <td>0.0</td>\n",
       "      <td>0.0</td>\n",
       "      <td>0.0</td>\n",
       "      <td>0.0</td>\n",
       "      <td>0.0</td>\n",
       "    </tr>\n",
       "    <tr>\n",
       "      <th>3</th>\n",
       "      <td>0.0</td>\n",
       "      <td>0.0</td>\n",
       "      <td>0.0</td>\n",
       "      <td>0.0</td>\n",
       "      <td>0.28</td>\n",
       "      <td>0.0</td>\n",
       "      <td>0.0</td>\n",
       "      <td>0.09</td>\n",
       "      <td>0.0</td>\n",
       "      <td>0.0</td>\n",
       "      <td>...</td>\n",
       "      <td>0.0</td>\n",
       "      <td>0.0</td>\n",
       "      <td>0.0</td>\n",
       "      <td>0.08</td>\n",
       "      <td>0.00</td>\n",
       "      <td>0.0</td>\n",
       "      <td>0.0</td>\n",
       "      <td>0.0</td>\n",
       "      <td>0.0</td>\n",
       "      <td>0.0</td>\n",
       "    </tr>\n",
       "    <tr>\n",
       "      <th>4</th>\n",
       "      <td>0.0</td>\n",
       "      <td>0.0</td>\n",
       "      <td>0.0</td>\n",
       "      <td>0.0</td>\n",
       "      <td>0.00</td>\n",
       "      <td>0.0</td>\n",
       "      <td>0.0</td>\n",
       "      <td>0.00</td>\n",
       "      <td>0.0</td>\n",
       "      <td>0.0</td>\n",
       "      <td>...</td>\n",
       "      <td>0.0</td>\n",
       "      <td>0.0</td>\n",
       "      <td>0.0</td>\n",
       "      <td>0.00</td>\n",
       "      <td>0.33</td>\n",
       "      <td>0.0</td>\n",
       "      <td>0.0</td>\n",
       "      <td>0.0</td>\n",
       "      <td>0.0</td>\n",
       "      <td>0.0</td>\n",
       "    </tr>\n",
       "  </tbody>\n",
       "</table>\n",
       "<p>5 rows × 53 columns</p>\n",
       "</div>"
      ],
      "text/plain": [
       "    10  2000  2002  also  best  business   cc  click  com  company  ...  \\\n",
       "0  0.0   0.0   0.0   0.0  0.50       0.0  0.0   0.34  0.0      0.0  ...   \n",
       "1  0.0   0.0   0.0   0.0  0.00       0.0  0.0   0.00  0.0      0.0  ...   \n",
       "2  0.0   0.0   0.0   0.0  0.00       0.0  0.0   0.00  0.0      0.0  ...   \n",
       "3  0.0   0.0   0.0   0.0  0.28       0.0  0.0   0.09  0.0      0.0  ...   \n",
       "4  0.0   0.0   0.0   0.0  0.00       0.0  0.0   0.00  0.0      0.0  ...   \n",
       "\n",
       "   thanks  time  today    us   use  want  way  well  work  would  \n",
       "0     0.0   0.0    0.0  0.15  0.00   0.0  0.0   0.0   0.0    0.0  \n",
       "1     0.0   0.0    0.0  0.00  0.32   0.0  0.0   0.0   0.0    0.0  \n",
       "2     0.0   0.0    0.0  0.00  0.43   0.0  0.0   0.0   0.0    0.0  \n",
       "3     0.0   0.0    0.0  0.08  0.00   0.0  0.0   0.0   0.0    0.0  \n",
       "4     0.0   0.0    0.0  0.00  0.33   0.0  0.0   0.0   0.0    0.0  \n",
       "\n",
       "[5 rows x 53 columns]"
      ]
     },
     "execution_count": 222,
     "metadata": {},
     "output_type": "execute_result"
    }
   ],
   "source": [
    "df_cv_TFIDF.head()"
   ]
  },
  {
   "attachments": {},
   "cell_type": "markdown",
   "metadata": {},
   "source": [
    "## Parte 2 – Implementación del modelo \n",
    "## Separación de datos \n",
    "- Datos de entrenamiento: 70% \n",
    "- Datos de prueba: 30% \n"
   ]
  },
  {
   "attachments": {},
   "cell_type": "markdown",
   "metadata": {},
   "source": [
    "## Implementación \n",
    "Utilice el algoritmo multinomial de NaiveBayes para entrenar el modelo con cada uno de los modelos \n",
    "de representación numérico. Muestre los valores obtenidos para las siguientes métricas: \n",
    "\n",
    "- Matriz de confusión \n",
    "- Precision \n",
    "- Recall \n",
    "- F1 Score "
   ]
  },
  {
   "attachments": {},
   "cell_type": "markdown",
   "metadata": {},
   "source": [
    "## Conclusion"
   ]
  },
  {
   "attachments": {},
   "cell_type": "markdown",
   "metadata": {},
   "source": [
    "Compare los valores para cada modelo de representación numérico. ¿Qué modelo produjo el mejor \n",
    "resultado, BoG o TF-IDF? ¿A que se debe la mejora? Explique los valores obtenidos en las métricas \n",
    "para el mejor modelo. "
   ]
  }
 ],
 "metadata": {
  "kernelspec": {
   "display_name": "Python 3",
   "language": "python",
   "name": "python3"
  },
  "language_info": {
   "codemirror_mode": {
    "name": "ipython",
    "version": 3
   },
   "file_extension": ".py",
   "mimetype": "text/x-python",
   "name": "python",
   "nbconvert_exporter": "python",
   "pygments_lexer": "ipython3",
   "version": "3.9.2"
  },
  "orig_nbformat": 4,
  "vscode": {
   "interpreter": {
    "hash": "9184e51aff028b79be18b8f01d873ca46dfe9e2bccf91dce56321306fbfb0372"
   }
  }
 },
 "nbformat": 4,
 "nbformat_minor": 2
}
