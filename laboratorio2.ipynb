{
 "cells": [
  {
   "attachments": {},
   "cell_type": "markdown",
   "metadata": {},
   "source": [
    "- Jose Pablo Ponce 19092\n",
    "- Gabriel Quiroz"
   ]
  },
  {
   "cell_type": "code",
   "execution_count": 2,
   "metadata": {},
   "outputs": [],
   "source": [
    "#Importar las librerías\n",
    "\n",
    "import pandas as pd\n",
    "import numpy as np\n",
    "import re\n",
    "from collections import Counter\n",
    "from sklearn import feature_extraction, tree, model_selection, metrics\n",
    "import matplotlib.pyplot as plt\n",
    "import matplotlib\n",
    "import seaborn as sns\n",
    "%matplotlib inline\n",
    "from yellowbrick.features import Rank2D\n",
    "from yellowbrick.features import RadViz"
   ]
  },
  {
   "attachments": {},
   "cell_type": "markdown",
   "metadata": {},
   "source": [
    "## Parte 1 – Ingeniería de características\n"
   ]
  },
  {
   "attachments": {},
   "cell_type": "markdown",
   "metadata": {},
   "source": [
    "## Exploración de datos\n"
   ]
  },
  {
   "attachments": {},
   "cell_type": "markdown",
   "metadata": {},
   "source": [
    "Revise la data y realice las operaciones necesarias para unificar los datasets y que el dataset final contenga el mensaje del correo y la etiqueta que indique si es SPAM o no."
   ]
  },
  {
   "cell_type": "code",
   "execution_count": 35,
   "metadata": {},
   "outputs": [],
   "source": [
    "df1 = pd.read_csv('./completeSpamAssassin.csv/completeSpamAssassin.csv')  \n",
    "df2 = pd.read_csv('./enronSpamSubset.csv/enronSpamSubset.csv')  "
   ]
  },
  {
   "cell_type": "code",
   "execution_count": 36,
   "metadata": {},
   "outputs": [
    {
     "name": "stdout",
     "output_type": "stream",
     "text": [
      "      Unnamed: 0                                               Body  Label\n",
      "256          256  NEWSLETTER COACHÂ’INVEST Â– SEPTEMBRE 2002Coac...      1\n",
      "461          461  New Account For: zzzz@spamassassin.taint.org \\...      1\n",
      "3638        3638  [followups to spambayes@python.org please, unl...      0\n",
      "3313        3313  David LeBlanc wrote:\\n> Errr... not to be peda...      0\n",
      "6036        6036                                              empty      0\n"
     ]
    }
   ],
   "source": [
    "print(df1.sample(n=5).head())\n"
   ]
  },
  {
   "cell_type": "code",
   "execution_count": 37,
   "metadata": {},
   "outputs": [
    {
     "name": "stdout",
     "output_type": "stream",
     "text": [
      "      Unnamed: 0.1  Unnamed: 0  \\\n",
      "8259         25488       25488   \n",
      "9213         17774       17774   \n",
      "4005         10773       10773   \n",
      "520          11939       11939   \n",
      "4207         13147       13147   \n",
      "\n",
      "                                                   Body  Label  \n",
      "8259  Subject: re : nomination for gas flow / 11 / 0...      0  \n",
      "9213  Subject: project inga recap / follow up\\n reca...      0  \n",
      "4005  Subject: toshiba 1 . 6 g / dvd - rw super mult...      1  \n",
      "520   Subject: give her something to smile about\\n m...      1  \n",
      "4207  Subject: need a new car - save thousands !\\n h...      1  \n"
     ]
    }
   ],
   "source": [
    "print(df2.sample(n=5).head())"
   ]
  },
  {
   "cell_type": "code",
   "execution_count": 38,
   "metadata": {},
   "outputs": [
    {
     "name": "stdout",
     "output_type": "stream",
     "text": [
      "Index(['Body', 'Label'], dtype='object')\n",
      "Index(['Body', 'Label'], dtype='object')\n"
     ]
    }
   ],
   "source": [
    "df1 = df1.drop(columns=['Unnamed: 0'])\n",
    "df2 = df2.drop(columns=['Unnamed: 0.1', 'Unnamed: 0'])\n",
    "print(df1.columns)\n",
    "print(df2.columns)"
   ]
  },
  {
   "cell_type": "code",
   "execution_count": 110,
   "metadata": {},
   "outputs": [
    {
     "data": {
      "text/html": [
       "<div>\n",
       "<style scoped>\n",
       "    .dataframe tbody tr th:only-of-type {\n",
       "        vertical-align: middle;\n",
       "    }\n",
       "\n",
       "    .dataframe tbody tr th {\n",
       "        vertical-align: top;\n",
       "    }\n",
       "\n",
       "    .dataframe thead th {\n",
       "        text-align: right;\n",
       "    }\n",
       "</style>\n",
       "<table border=\"1\" class=\"dataframe\">\n",
       "  <thead>\n",
       "    <tr style=\"text-align: right;\">\n",
       "      <th></th>\n",
       "      <th>Body</th>\n",
       "      <th>Spam</th>\n",
       "    </tr>\n",
       "  </thead>\n",
       "  <tbody>\n",
       "    <tr>\n",
       "      <th>8703</th>\n",
       "      <td>Subject: start date : 12 / 18 / 01 ; hourahead...</td>\n",
       "      <td>0</td>\n",
       "    </tr>\n",
       "    <tr>\n",
       "      <th>2626</th>\n",
       "      <td>Subject: losing your hair ? order generic xana...</td>\n",
       "      <td>1</td>\n",
       "    </tr>\n",
       "    <tr>\n",
       "      <th>3744</th>\n",
       "      <td>URL: http://scriptingnews.userland.com/backiss...</td>\n",
       "      <td>0</td>\n",
       "    </tr>\n",
       "    <tr>\n",
       "      <th>2254</th>\n",
       "      <td>Subject: vicodin ' only $ 150 online , no doc ...</td>\n",
       "      <td>1</td>\n",
       "    </tr>\n",
       "    <tr>\n",
       "      <th>2707</th>\n",
       "      <td>Subject: order verification\\n % rnd _ alt % rn...</td>\n",
       "      <td>1</td>\n",
       "    </tr>\n",
       "  </tbody>\n",
       "</table>\n",
       "</div>"
      ],
      "text/plain": [
       "                                                   Body  Spam\n",
       "8703  Subject: start date : 12 / 18 / 01 ; hourahead...     0\n",
       "2626  Subject: losing your hair ? order generic xana...     1\n",
       "3744  URL: http://scriptingnews.userland.com/backiss...     0\n",
       "2254  Subject: vicodin ' only $ 150 online , no doc ...     1\n",
       "2707  Subject: order verification\\n % rnd _ alt % rn...     1"
      ]
     },
     "execution_count": 110,
     "metadata": {},
     "output_type": "execute_result"
    }
   ],
   "source": [
    "df_final = pd.concat([df1, df2])\n",
    "df_final = df_final.rename(columns={\"Label\": \"Spam\"})\n",
    "df_final.sample(n=5).head() \n"
   ]
  },
  {
   "attachments": {},
   "cell_type": "markdown",
   "metadata": {},
   "source": [
    "## Preprocesamiento"
   ]
  },
  {
   "attachments": {},
   "cell_type": "markdown",
   "metadata": {},
   "source": [
    "Aplique las técnicas de pre – procesamiento de lenguaje natural que considere necesarias \n",
    "(conversión de minúsculas, mayúsculas, eliminación de acentos, expansión de contracciones, eliminación de stop\n",
    "words, etc.)"
   ]
  },
  {
   "cell_type": "code",
   "execution_count": 111,
   "metadata": {},
   "outputs": [],
   "source": [
    "#conversion a minusculas\n",
    "df_final['Body'] = df_final['Body'].str.lower()\n"
   ]
  },
  {
   "cell_type": "code",
   "execution_count": 112,
   "metadata": {},
   "outputs": [],
   "source": [
    "#remover acentos\n",
    "df_final['Body'] = df_final['Body'].str.normalize('NFKD').str.encode('ascii', errors='ignore').str.decode('utf-8')\n"
   ]
  },
  {
   "cell_type": "code",
   "execution_count": 113,
   "metadata": {},
   "outputs": [],
   "source": [
    "#expandir contracciones\n",
    "import contractions\n",
    "df_final[\"Body\"] = df_final[\"Body\"].apply(lambda x: contractions.fix(str(x)))"
   ]
  },
  {
   "cell_type": "code",
   "execution_count": 90,
   "metadata": {},
   "outputs": [
    {
     "name": "stderr",
     "output_type": "stream",
     "text": [
      "[nltk_data] Downloading package stopwords to\n",
      "[nltk_data]     C:\\Users\\joopa\\AppData\\Roaming\\nltk_data...\n",
      "[nltk_data]   Package stopwords is already up-to-date!\n",
      "[nltk_data] Downloading package punkt to\n",
      "[nltk_data]     C:\\Users\\joopa\\AppData\\Roaming\\nltk_data...\n",
      "[nltk_data]   Package punkt is already up-to-date!\n"
     ]
    },
    {
     "data": {
      "text/plain": [
       "True"
      ]
     },
     "execution_count": 90,
     "metadata": {},
     "output_type": "execute_result"
    }
   ],
   "source": [
    "import nltk\n",
    "nltk.download('stopwords')\n",
    "nltk.download('punkt')\n",
    "\n"
   ]
  },
  {
   "cell_type": "code",
   "execution_count": 114,
   "metadata": {},
   "outputs": [],
   "source": [
    "#eliminar stop words\n",
    "stop_words = nltk.corpus.stopwords.words('english')\n",
    "df_final[\"Body\"]= df_final[\"Body\"].apply(lambda words: ' '.join(word.lower() for word in words.split() if word not in stop_words))\n"
   ]
  },
  {
   "cell_type": "code",
   "execution_count": 115,
   "metadata": {},
   "outputs": [],
   "source": [
    "#eliminar caracteres especiales, numeros y simbolos\n",
    "import re\n",
    "def removerCaracteresEspecialesNumerosSimbolos(texto, removerDigitos =False):\n",
    "    patron = r'[^a-zA-Z0-9\\s]' if not removerDigitos else r'[^a-zA-Z\\s]'\n",
    "    texto = re.sub(patron,'', texto)\n",
    "    return texto\n",
    "oracion = 'Hoy es el partido de fútbol a las 7:45 @$%&'\n",
    "\n",
    "df_final[\"Body\"] = df_final[\"Body\"].apply(lambda x: removerCaracteresEspecialesNumerosSimbolos(x, True))\n"
   ]
  },
  {
   "cell_type": "code",
   "execution_count": 117,
   "metadata": {},
   "outputs": [
    {
     "data": {
      "text/html": [
       "<div>\n",
       "<style scoped>\n",
       "    .dataframe tbody tr th:only-of-type {\n",
       "        vertical-align: middle;\n",
       "    }\n",
       "\n",
       "    .dataframe tbody tr th {\n",
       "        vertical-align: top;\n",
       "    }\n",
       "\n",
       "    .dataframe thead th {\n",
       "        text-align: right;\n",
       "    }\n",
       "</style>\n",
       "<table border=\"1\" class=\"dataframe\">\n",
       "  <thead>\n",
       "    <tr style=\"text-align: right;\">\n",
       "      <th></th>\n",
       "      <th>Body</th>\n",
       "      <th>Spam</th>\n",
       "    </tr>\n",
       "  </thead>\n",
       "  <tbody>\n",
       "    <tr>\n",
       "      <th>8077</th>\n",
       "      <td>subject registration confirmation spinner  com...</td>\n",
       "      <td>0</td>\n",
       "    </tr>\n",
       "    <tr>\n",
       "      <th>8320</th>\n",
       "      <td>subject supervisor evaluation forms kitchen  l...</td>\n",
       "      <td>0</td>\n",
       "    </tr>\n",
       "    <tr>\n",
       "      <th>9917</th>\n",
       "      <td>subject fyi left kathy message       monday ju...</td>\n",
       "      <td>0</td>\n",
       "    </tr>\n",
       "    <tr>\n",
       "      <th>5376</th>\n",
       "      <td>fri   bitbitchmagnesiumnet wrote  smegma happe...</td>\n",
       "      <td>0</td>\n",
       "    </tr>\n",
       "    <tr>\n",
       "      <th>9532</th>\n",
       "      <td>subject revised nom  kcs resources daren  kcs ...</td>\n",
       "      <td>0</td>\n",
       "    </tr>\n",
       "  </tbody>\n",
       "</table>\n",
       "</div>"
      ],
      "text/plain": [
       "                                                   Body  Spam\n",
       "8077  subject registration confirmation spinner  com...     0\n",
       "8320  subject supervisor evaluation forms kitchen  l...     0\n",
       "9917  subject fyi left kathy message       monday ju...     0\n",
       "5376  fri   bitbitchmagnesiumnet wrote  smegma happe...     0\n",
       "9532  subject revised nom  kcs resources daren  kcs ...     0"
      ]
     },
     "execution_count": 117,
     "metadata": {},
     "output_type": "execute_result"
    }
   ],
   "source": [
    "df_final.sample(n=5).head() \n"
   ]
  },
  {
   "attachments": {},
   "cell_type": "markdown",
   "metadata": {},
   "source": [
    "## Representación de texto\n"
   ]
  }
 ],
 "metadata": {
  "kernelspec": {
   "display_name": "Python 3",
   "language": "python",
   "name": "python3"
  },
  "language_info": {
   "codemirror_mode": {
    "name": "ipython",
    "version": 3
   },
   "file_extension": ".py",
   "mimetype": "text/x-python",
   "name": "python",
   "nbconvert_exporter": "python",
   "pygments_lexer": "ipython3",
   "version": "3.9.2"
  },
  "orig_nbformat": 4,
  "vscode": {
   "interpreter": {
    "hash": "9184e51aff028b79be18b8f01d873ca46dfe9e2bccf91dce56321306fbfb0372"
   }
  }
 },
 "nbformat": 4,
 "nbformat_minor": 2
}
