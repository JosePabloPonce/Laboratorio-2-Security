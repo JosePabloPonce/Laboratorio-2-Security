{
 "cells": [
  {
   "attachments": {},
   "cell_type": "markdown",
   "metadata": {},
   "source": [
    "- Jose Pablo Ponce 19092\n",
    "- Gabriel Quiroz"
   ]
  },
  {
   "cell_type": "code",
   "execution_count": 2,
   "metadata": {},
   "outputs": [],
   "source": [
    "#Importar las librerías\n",
    "\n",
    "import pandas as pd\n",
    "import numpy as np\n",
    "import re\n",
    "from collections import Counter\n",
    "from sklearn import feature_extraction, tree, model_selection, metrics\n",
    "import matplotlib.pyplot as plt\n",
    "import matplotlib\n",
    "import seaborn as sns\n",
    "%matplotlib inline\n",
    "from yellowbrick.features import Rank2D\n",
    "from yellowbrick.features import RadViz"
   ]
  },
  {
   "attachments": {},
   "cell_type": "markdown",
   "metadata": {},
   "source": [
    "## Parte 1 – Ingeniería de características\n"
   ]
  },
  {
   "attachments": {},
   "cell_type": "markdown",
   "metadata": {},
   "source": [
    "## Exploración de datos\n"
   ]
  },
  {
   "attachments": {},
   "cell_type": "markdown",
   "metadata": {},
   "source": [
    "Revise la data y realice las operaciones necesarias para unificar los datasets y que el dataset final contenga el mensaje del correo y la etiqueta que indique si es SPAM o no."
   ]
  },
  {
   "cell_type": "code",
   "execution_count": 3,
   "metadata": {},
   "outputs": [],
   "source": [
    "df1 = pd.read_csv('./completeSpamAssassin.csv/completeSpamAssassin.csv')  \n",
    "df2 = pd.read_csv('./enronSpamSubset.csv/enronSpamSubset.csv')  "
   ]
  },
  {
   "cell_type": "code",
   "execution_count": 4,
   "metadata": {},
   "outputs": [],
   "source": [
    "pd.options.display.max_colwidth = 200"
   ]
  },
  {
   "cell_type": "code",
   "execution_count": 176,
   "metadata": {},
   "outputs": [
    {
     "name": "stdout",
     "output_type": "stream",
     "text": [
      "      Unnamed: 0  \\\n",
      "2831        2831   \n",
      "22            22   \n",
      "3005        3005   \n",
      "1520        1520   \n",
      "552          552   \n",
      "\n",
      "                                                                                                                                                                                                         Body  \\\n",
      "2831  Hardware acceleration for SSL makes sense since PKI can slow down a\\ntransaction by as much as 1,000-fold. Per this article, XML formatting only\\nincreases doc size by about 20-fold.. I'm not sure...   \n",
      "22                                                                                                                                                                                                      empty   \n",
      "3005  Hi,Just the kind of announce I make once in a while :\\n- I've rebuilt a new \"alsaplayer\" package based on Angle's one.\\n- I've rebuilt a hopefully final version \"-fr8\" of the \"alsa-driver\" and\\n  ...   \n",
      "1520  Long time no chat!How have you been? If you've been like me, you've been trying\\ntrying almost EVERYTHING to lose weight.Â  I know how you feel\\n- the special diets, miracle pills, and fancy exerc...   \n",
      "552   \\nHave you checked your personal credit reports recently?If you are planning making any major purchase like purchasing a Home or \\nnewcar or getting a new job or even a promotion, Please....read o...   \n",
      "\n",
      "      Label  \n",
      "2831      0  \n",
      "22        1  \n",
      "3005      0  \n",
      "1520      1  \n",
      "552       1  \n"
     ]
    }
   ],
   "source": [
    "print(df1.sample(n=5).head())\n"
   ]
  },
  {
   "cell_type": "code",
   "execution_count": 177,
   "metadata": {},
   "outputs": [
    {
     "name": "stdout",
     "output_type": "stream",
     "text": [
      "      Unnamed: 0.1  Unnamed: 0  \\\n",
      "5069         29751       29751   \n",
      "6490         33244       33244   \n",
      "1241         12670       12670   \n",
      "6581         18836       18836   \n",
      "1710         10603       10603   \n",
      "\n",
      "                                                                                                                                                                                                         Body  \\\n",
      "5069  Subject: start date : 1 / 5 / 02 ; hourahead hour : 17 ;\\n start date : 1 / 5 / 02 ; hourahead hour : 17 ; no ancillary schedules awarded . no variances detected .\\n log messages :\\n parsing file ...   \n",
      "6490  Subject: re : tw unsubscribed capacity\\n i added an extra \" printable page \" button on the page so that the entire page can be printed out .\\n michelle , please let me know if you still have probl...   \n",
      "1241  Subject: site update mon , 27 jun 2005 .\\n subject : site update mon , 27 jun 2005 .\\n thank you for using our online store and for your previous order . we have updated our online software store ...   \n",
      "6581  Subject: manager coaching program\\n d - - fyi .\\n - - - - - - - - - - - - - - - - - - - - - - forwarded by brenda f herod / hou / ect on 03 / 06 / 2000\\n 09 : 23 am - - - - - - - - - - - - - - - -...   \n",
      "1710  Subject: miss \\ / allium , vlaagrra , somma , zol 0 ft , xanaa , claal 1 s charset = iso - 8859 - 1 \" >\\n along arm again , advantage wife evening reference free , advantage similar showed .\\n dis...   \n",
      "\n",
      "      Label  \n",
      "5069      0  \n",
      "6490      0  \n",
      "1241      1  \n",
      "6581      0  \n",
      "1710      1  \n"
     ]
    }
   ],
   "source": [
    "print(df2.sample(n=5).head())"
   ]
  },
  {
   "cell_type": "code",
   "execution_count": 5,
   "metadata": {},
   "outputs": [
    {
     "name": "stdout",
     "output_type": "stream",
     "text": [
      "Index(['Body', 'Label'], dtype='object')\n",
      "Index(['Body', 'Label'], dtype='object')\n"
     ]
    }
   ],
   "source": [
    "df1 = df1.drop(columns=['Unnamed: 0'])\n",
    "df2 = df2.drop(columns=['Unnamed: 0.1', 'Unnamed: 0'])\n",
    "print(df1.columns)\n",
    "print(df2.columns)"
   ]
  },
  {
   "cell_type": "code",
   "execution_count": 6,
   "metadata": {},
   "outputs": [
    {
     "data": {
      "text/html": [
       "<div>\n",
       "<style scoped>\n",
       "    .dataframe tbody tr th:only-of-type {\n",
       "        vertical-align: middle;\n",
       "    }\n",
       "\n",
       "    .dataframe tbody tr th {\n",
       "        vertical-align: top;\n",
       "    }\n",
       "\n",
       "    .dataframe thead th {\n",
       "        text-align: right;\n",
       "    }\n",
       "</style>\n",
       "<table border=\"1\" class=\"dataframe\">\n",
       "  <thead>\n",
       "    <tr style=\"text-align: right;\">\n",
       "      <th></th>\n",
       "      <th>Body</th>\n",
       "      <th>Spam</th>\n",
       "    </tr>\n",
       "  </thead>\n",
       "  <tbody>\n",
       "    <tr>\n",
       "      <th>7738</th>\n",
       "      <td>Subject: re : netco employee\\r\\n i ' m not sure . i ' ll speak to him on monday and let you know . jr\\r\\n jr\\r\\n - - - - - original message - - - - -\\r\\n from : kitchen , louise\\r\\n to : rub , jen...</td>\n",
       "      <td>0</td>\n",
       "    </tr>\n",
       "    <tr>\n",
       "      <th>5206</th>\n",
       "      <td>Luis Villa wrote:\\r\\n &gt; So you /are/ beberg posting under another name.\\r\\n &gt; Finally proof of what we've known all along. ;)That'll come to a shock to Geege, I'm sure...- Joehttp://xent.com/mailm...</td>\n",
       "      <td>0</td>\n",
       "    </tr>\n",
       "    <tr>\n",
       "      <th>866</th>\n",
       "      <td>On January 1st 2002, the European countries began\\r\\nusing the new Euro.  Never before have so\\r\\nmany countries with such powerful economies united\\r\\nto use a single currency.  Get your piece of...</td>\n",
       "      <td>1</td>\n",
       "    </tr>\n",
       "    <tr>\n",
       "      <th>4956</th>\n",
       "      <td>Subject: final offer\\r\\n wed , 29 sep 2004 19 : 16 : 00 + 0200\\r\\n client identification # : 813 - 02\\r\\n dear client :\\r\\n after viewing your credit - rating and current situation , we have decid...</td>\n",
       "      <td>1</td>\n",
       "    </tr>\n",
       "    <tr>\n",
       "      <th>3387</th>\n",
       "      <td>Subject: returned mail : see transcript for details\\r\\n the original message was received at tue , 19 jul 2005 11 : 00 : 57 gmt\\r\\n from mail 8 . atl . registeredsite . com [ 64 . 224 . 219 . 82 ]...</td>\n",
       "      <td>1</td>\n",
       "    </tr>\n",
       "  </tbody>\n",
       "</table>\n",
       "</div>"
      ],
      "text/plain": [
       "                                                                                                                                                                                                         Body  \\\n",
       "7738  Subject: re : netco employee\\r\\n i ' m not sure . i ' ll speak to him on monday and let you know . jr\\r\\n jr\\r\\n - - - - - original message - - - - -\\r\\n from : kitchen , louise\\r\\n to : rub , jen...   \n",
       "5206  Luis Villa wrote:\\r\\n > So you /are/ beberg posting under another name.\\r\\n > Finally proof of what we've known all along. ;)That'll come to a shock to Geege, I'm sure...- Joehttp://xent.com/mailm...   \n",
       "866   On January 1st 2002, the European countries began\\r\\nusing the new Euro.  Never before have so\\r\\nmany countries with such powerful economies united\\r\\nto use a single currency.  Get your piece of...   \n",
       "4956  Subject: final offer\\r\\n wed , 29 sep 2004 19 : 16 : 00 + 0200\\r\\n client identification # : 813 - 02\\r\\n dear client :\\r\\n after viewing your credit - rating and current situation , we have decid...   \n",
       "3387  Subject: returned mail : see transcript for details\\r\\n the original message was received at tue , 19 jul 2005 11 : 00 : 57 gmt\\r\\n from mail 8 . atl . registeredsite . com [ 64 . 224 . 219 . 82 ]...   \n",
       "\n",
       "      Spam  \n",
       "7738     0  \n",
       "5206     0  \n",
       "866      1  \n",
       "4956     1  \n",
       "3387     1  "
      ]
     },
     "execution_count": 6,
     "metadata": {},
     "output_type": "execute_result"
    }
   ],
   "source": [
    "df_final = pd.concat([df1, df2])\n",
    "df_final = df_final.rename(columns={\"Label\": \"Spam\"})\n",
    "df_final.sample(n=5).head() \n"
   ]
  },
  {
   "attachments": {},
   "cell_type": "markdown",
   "metadata": {},
   "source": [
    "## Preprocesamiento"
   ]
  },
  {
   "attachments": {},
   "cell_type": "markdown",
   "metadata": {},
   "source": [
    "Aplique las técnicas de pre – procesamiento de lenguaje natural que considere necesarias \n",
    "(conversión de minúsculas, mayúsculas, eliminación de acentos, expansión de contracciones, eliminación de stop\n",
    "words, etc.)"
   ]
  },
  {
   "cell_type": "code",
   "execution_count": 7,
   "metadata": {},
   "outputs": [],
   "source": [
    "#removemos espacios al inicio y final\n",
    "df_final['Body'] = df_final['Body'].str.strip()"
   ]
  },
  {
   "cell_type": "code",
   "execution_count": 8,
   "metadata": {},
   "outputs": [],
   "source": [
    "#conversion a minusculas\n",
    "df_final['Body'] = df_final['Body'].str.lower()\n"
   ]
  },
  {
   "cell_type": "code",
   "execution_count": 9,
   "metadata": {},
   "outputs": [],
   "source": [
    "#remover acentos\n",
    "df_final['Body'] = df_final['Body'].str.normalize('NFKD').str.encode('ascii', errors='ignore').str.decode('utf-8')\n"
   ]
  },
  {
   "cell_type": "code",
   "execution_count": 10,
   "metadata": {},
   "outputs": [],
   "source": [
    "#expandir contracciones\n",
    "import contractions\n",
    "df_final[\"Body\"] = df_final[\"Body\"].apply(lambda x: contractions.fix(str(x)))"
   ]
  },
  {
   "cell_type": "code",
   "execution_count": 11,
   "metadata": {},
   "outputs": [],
   "source": [
    "#eliminar caracteres especiales, numeros y simbolos\n",
    "import re\n",
    "def removerCaracteresEspecialesNumerosSimbolos(texto, removerDigitos =False):\n",
    "    patron = r'[^a-zA-Z0-9\\s]' if not removerDigitos else r'[^a-zA-Z\\s]'\n",
    "    texto = re.sub(patron,'', texto)\n",
    "    return texto\n",
    "oracion = 'Hoy es el partido de fútbol a las 7:45 @$%&'\n",
    "\n",
    "df_final[\"Body\"] = df_final[\"Body\"].apply(lambda x: removerCaracteresEspecialesNumerosSimbolos(x, True))\n"
   ]
  },
  {
   "cell_type": "code",
   "execution_count": 12,
   "metadata": {},
   "outputs": [
    {
     "name": "stderr",
     "output_type": "stream",
     "text": [
      "[nltk_data] Downloading package stopwords to\n",
      "[nltk_data]     C:\\Users\\PC\\AppData\\Roaming\\nltk_data...\n",
      "[nltk_data]   Package stopwords is already up-to-date!\n",
      "[nltk_data] Downloading package punkt to\n",
      "[nltk_data]     C:\\Users\\PC\\AppData\\Roaming\\nltk_data...\n",
      "[nltk_data]   Package punkt is already up-to-date!\n"
     ]
    },
    {
     "data": {
      "text/plain": [
       "True"
      ]
     },
     "execution_count": 12,
     "metadata": {},
     "output_type": "execute_result"
    }
   ],
   "source": [
    "import nltk\n",
    "nltk.download('stopwords')\n",
    "nltk.download('punkt')\n",
    "\n"
   ]
  },
  {
   "cell_type": "code",
   "execution_count": 13,
   "metadata": {},
   "outputs": [],
   "source": [
    "#eliminar stop words\n",
    "stop_words = nltk.corpus.stopwords.words('english')\n",
    "df_final[\"Body\"]= df_final[\"Body\"].apply(lambda words: ' '.join(word.lower() for word in words.split() if word not in stop_words))\n"
   ]
  },
  {
   "cell_type": "code",
   "execution_count": 196,
   "metadata": {},
   "outputs": [
    {
     "data": {
      "text/html": [
       "<div>\n",
       "<style scoped>\n",
       "    .dataframe tbody tr th:only-of-type {\n",
       "        vertical-align: middle;\n",
       "    }\n",
       "\n",
       "    .dataframe tbody tr th {\n",
       "        vertical-align: top;\n",
       "    }\n",
       "\n",
       "    .dataframe thead th {\n",
       "        text-align: right;\n",
       "    }\n",
       "</style>\n",
       "<table border=\"1\" class=\"dataframe\">\n",
       "  <thead>\n",
       "    <tr style=\"text-align: right;\">\n",
       "      <th></th>\n",
       "      <th>Body</th>\n",
       "      <th>Spam</th>\n",
       "    </tr>\n",
       "  </thead>\n",
       "  <tbody>\n",
       "    <tr>\n",
       "      <th>2829</th>\n",
       "      <td>stateful would seem worth effort although guess might help ddos attackssounds snakeoilish biased lots experience firewalls proxy servers limitations thereofken original message rohit khare mailtok...</td>\n",
       "      <td>0</td>\n",
       "    </tr>\n",
       "    <tr>\n",
       "      <th>2027</th>\n",
       "      <td>subject story stetson pleasant destroy weller melanie lame northern bulwark evocation chromatin n l n e n v e r p l e g r e e obtain diploma degree master send certificate countries worldwide cons...</td>\n",
       "      <td>1</td>\n",
       "    </tr>\n",
       "    <tr>\n",
       "      <th>582</th>\n",
       "      <td>subject free glucose meter enroll today see qualify free glucose meter ship diabetic testing supplies direct door free home delivery bill insurance medicare visit http www diabetesecare com veloznet</td>\n",
       "      <td>1</td>\n",
       "    </tr>\n",
       "    <tr>\n",
       "      <th>3608</th>\n",
       "      <td>also identified spam everything inbox mime structure html parts several messages saved zope geeks list happened using mime andor html know strangest implied claim hates mime independent html examp...</td>\n",
       "      <td>0</td>\n",
       "    </tr>\n",
       "    <tr>\n",
       "      <th>4516</th>\n",
       "      <td>actually though case sensitive seems trouble wtih papchap authentication well might scripton friday july liam bedford wrote fri jul hamiltondavid hpirelandex claiming think hi trying find oceanfre...</td>\n",
       "      <td>0</td>\n",
       "    </tr>\n",
       "  </tbody>\n",
       "</table>\n",
       "</div>"
      ],
      "text/plain": [
       "                                                                                                                                                                                                         Body  \\\n",
       "2829  stateful would seem worth effort although guess might help ddos attackssounds snakeoilish biased lots experience firewalls proxy servers limitations thereofken original message rohit khare mailtok...   \n",
       "2027  subject story stetson pleasant destroy weller melanie lame northern bulwark evocation chromatin n l n e n v e r p l e g r e e obtain diploma degree master send certificate countries worldwide cons...   \n",
       "582    subject free glucose meter enroll today see qualify free glucose meter ship diabetic testing supplies direct door free home delivery bill insurance medicare visit http www diabetesecare com veloznet   \n",
       "3608  also identified spam everything inbox mime structure html parts several messages saved zope geeks list happened using mime andor html know strangest implied claim hates mime independent html examp...   \n",
       "4516  actually though case sensitive seems trouble wtih papchap authentication well might scripton friday july liam bedford wrote fri jul hamiltondavid hpirelandex claiming think hi trying find oceanfre...   \n",
       "\n",
       "      Spam  \n",
       "2829     0  \n",
       "2027     1  \n",
       "582      1  \n",
       "3608     0  \n",
       "4516     0  "
      ]
     },
     "execution_count": 196,
     "metadata": {},
     "output_type": "execute_result"
    }
   ],
   "source": [
    "df_final.sample(n=5).head() \n"
   ]
  },
  {
   "attachments": {},
   "cell_type": "markdown",
   "metadata": {},
   "source": [
    "## Representación de texto\n"
   ]
  },
  {
   "attachments": {},
   "cell_type": "markdown",
   "metadata": {},
   "source": [
    "Utilice los modelos de BoG (para n = 1,2) y TF-IDF. Muestre algunos ejemplos de los mensajes en su\n",
    "representación numérica."
   ]
  },
  {
   "attachments": {},
   "cell_type": "markdown",
   "metadata": {},
   "source": [
    "### Modelo Bag of Words"
   ]
  },
  {
   "cell_type": "code",
   "execution_count": 14,
   "metadata": {},
   "outputs": [
    {
     "data": {
      "text/plain": [
       "array([[3, 1, 1, ..., 0, 0, 0],\n",
       "       [0, 1, 2, ..., 0, 0, 0],\n",
       "       [0, 1, 1, ..., 0, 0, 0],\n",
       "       ...,\n",
       "       [0, 0, 0, ..., 2, 0, 0],\n",
       "       [0, 0, 0, ..., 1, 0, 0],\n",
       "       [3, 0, 0, ..., 1, 0, 1]], dtype=int64)"
      ]
     },
     "execution_count": 14,
     "metadata": {},
     "output_type": "execute_result"
    }
   ],
   "source": [
    "from sklearn.feature_extraction.text import CountVectorizer\n",
    "\n",
    "cv = CountVectorizer(min_df=0.2, max_df=0.8)\n",
    "# Min_df y Max_df nos sirven para controlar el porcentaje mínimo y máximo de apariciones de un token\n",
    "cv_matrix = cv.fit_transform(df_final[\"Body\"])\n",
    "cv_matrix = cv_matrix.toarray()\n",
    "cv_matrix"
   ]
  },
  {
   "cell_type": "code",
   "execution_count": 15,
   "metadata": {},
   "outputs": [],
   "source": [
    "# Palabras únicas del corpus\n",
    "vocabulario = cv.get_feature_names_out()\n",
    "# Mostrar el vector\n",
    "df_cv_BagOfWords = pd.DataFrame(cv_matrix, columns=vocabulario)"
   ]
  },
  {
   "attachments": {},
   "cell_type": "markdown",
   "metadata": {},
   "source": [
    "### Modelo Bag of N-Grams"
   ]
  },
  {
   "cell_type": "code",
   "execution_count": 16,
   "metadata": {},
   "outputs": [],
   "source": [
    "bv = CountVectorizer(ngram_range=(1,2), min_df=0.1, max_df=0.9)\n",
    "bv_matrix = bv.fit_transform(df_final[\"Body\"])\n",
    "\n",
    "bv_matrix = bv_matrix.toarray()\n",
    "vocabulario = bv.get_feature_names_out()\n",
    "df_cv_BagOfNGrams = pd.DataFrame(bv_matrix, columns=vocabulario)"
   ]
  },
  {
   "attachments": {},
   "cell_type": "markdown",
   "metadata": {},
   "source": [
    "### Modelo TF -IDF"
   ]
  },
  {
   "cell_type": "code",
   "execution_count": 17,
   "metadata": {},
   "outputs": [],
   "source": [
    "from sklearn.feature_extraction.text import TfidfVectorizer\n",
    "\n",
    "tv = TfidfVectorizer(min_df=0.1, max_df=0.9, use_idf=True)\n",
    "tv_matrix = tv.fit_transform(df_final[\"Body\"])\n",
    "tv_matrix = tv_matrix.toarray()\n",
    "\n",
    "vocabulario = tv.get_feature_names_out()\n",
    "df_cv_TFIDF = pd.DataFrame(np.round(tv_matrix, 2), columns=vocabulario)"
   ]
  },
  {
   "attachments": {},
   "cell_type": "markdown",
   "metadata": {},
   "source": [
    "## Parte 2 – Implementación del modelo \n",
    "## Separación de datos \n",
    "- Datos de entrenamiento: 70% \n",
    "- Datos de prueba: 30% \n"
   ]
  },
  {
   "attachments": {},
   "cell_type": "markdown",
   "metadata": {},
   "source": [
    "## Implementación \n",
    "Utilice el algoritmo multinomial de NaiveBayes para entrenar el modelo con cada uno de los modelos \n",
    "de representación numérico. Muestre los valores obtenidos para las siguientes métricas: \n",
    "\n",
    "- Matriz de confusión \n",
    "- Precision \n",
    "- Recall \n",
    "- F1 Score "
   ]
  },
  {
   "cell_type": "code",
   "execution_count": 18,
   "metadata": {},
   "outputs": [],
   "source": [
    "from sklearn.model_selection import train_test_split\n",
    "from sklearn.model_selection import cross_val_score\n",
    "from sklearn.metrics import classification_report, confusion_matrix\n",
    "from sklearn.naive_bayes import MultinomialNB"
   ]
  },
  {
   "attachments": {},
   "cell_type": "markdown",
   "metadata": {},
   "source": [
    "## Bag Of Words"
   ]
  },
  {
   "cell_type": "code",
   "execution_count": 41,
   "metadata": {},
   "outputs": [],
   "source": [
    "X_train, X_test, y_train, y_test = train_test_split(df_cv_BagOfWords, df_final[\"Spam\"], train_size=0.7,test_size=0.3,random_state=0)"
   ]
  },
  {
   "cell_type": "code",
   "execution_count": 42,
   "metadata": {},
   "outputs": [
    {
     "name": "stdout",
     "output_type": "stream",
     "text": [
      "Score:  0.6121728292480266\n"
     ]
    }
   ],
   "source": [
    "classifier = MultinomialNB()\n",
    "classifier.fit(X_train,y_train)\n",
    "print('Score: ',classifier.score(X_test,y_test))"
   ]
  },
  {
   "cell_type": "code",
   "execution_count": 43,
   "metadata": {},
   "outputs": [
    {
     "data": {
      "text/plain": [
       "array([0.6251298 , 0.63759086, 0.62097612, 0.60124611, 0.62785863])"
      ]
     },
     "execution_count": 43,
     "metadata": {},
     "output_type": "execute_result"
    }
   ],
   "source": [
    "cross_val_score(classifier,X_test,y_test)"
   ]
  },
  {
   "cell_type": "code",
   "execution_count": 44,
   "metadata": {},
   "outputs": [],
   "source": [
    "y_predicted = classifier.predict(X_test)"
   ]
  },
  {
   "cell_type": "code",
   "execution_count": 45,
   "metadata": {},
   "outputs": [
    {
     "data": {
      "text/plain": [
       "array([[2358,  391],\n",
       "       [1476,  589]], dtype=int64)"
      ]
     },
     "execution_count": 45,
     "metadata": {},
     "output_type": "execute_result"
    }
   ],
   "source": [
    "confusion_matrix_result = confusion_matrix(y_test,y_predicted)\n",
    "confusion_matrix_result"
   ]
  },
  {
   "cell_type": "code",
   "execution_count": 46,
   "metadata": {},
   "outputs": [
    {
     "data": {
      "image/png": "[encoded data removed]",
      "text/plain": [
       "<Figure size 800x600 with 2 Axes>"
      ]
     },
     "metadata": {},
     "output_type": "display_data"
    }
   ],
   "source": [
    "labels = ['Not spam','Spam']\n",
    "plt.figure(figsize=(8,6))\n",
    "sns.heatmap(confusion_matrix_result,annot=True,cmap='Reds',fmt='.0f',xticklabels=labels,yticklabels=labels)\n",
    "plt.xlabel('Predicted values')\n",
    "plt.ylabel('Actual values')\n",
    "plt.show()"
   ]
  },
  {
   "cell_type": "code",
   "execution_count": 47,
   "metadata": {},
   "outputs": [
    {
     "name": "stdout",
     "output_type": "stream",
     "text": [
      "              precision    recall  f1-score   support\n",
      "\n",
      "           0       0.62      0.86      0.72      2749\n",
      "           1       0.60      0.29      0.39      2065\n",
      "\n",
      "    accuracy                           0.61      4814\n",
      "   macro avg       0.61      0.57      0.55      4814\n",
      "weighted avg       0.61      0.61      0.58      4814\n",
      "\n"
     ]
    }
   ],
   "source": [
    "classification_report_result = classification_report(y_test,y_predicted)\n",
    "print(classification_report_result)"
   ]
  },
  {
   "attachments": {},
   "cell_type": "markdown",
   "metadata": {},
   "source": [
    "## Bag Of N-grams"
   ]
  },
  {
   "cell_type": "code",
   "execution_count": 48,
   "metadata": {},
   "outputs": [],
   "source": [
    "X_train, X_test, y_train, y_test = train_test_split(df_cv_BagOfNGrams, df_final[\"Spam\"], train_size=0.7,test_size=0.3,random_state=0)"
   ]
  },
  {
   "cell_type": "code",
   "execution_count": 49,
   "metadata": {},
   "outputs": [
    {
     "name": "stdout",
     "output_type": "stream",
     "text": [
      "Score:  0.7704611549646864\n"
     ]
    }
   ],
   "source": [
    "classifier = MultinomialNB()\n",
    "classifier.fit(X_train,y_train)\n",
    "print('Score: ',classifier.score(X_test,y_test))"
   ]
  },
  {
   "cell_type": "code",
   "execution_count": 50,
   "metadata": {},
   "outputs": [
    {
     "data": {
      "text/plain": [
       "array([0.79646937, 0.76012461, 0.79023884, 0.7694704 , 0.78170478])"
      ]
     },
     "execution_count": 50,
     "metadata": {},
     "output_type": "execute_result"
    }
   ],
   "source": [
    "cross_val_score(classifier,X_test,y_test)"
   ]
  },
  {
   "cell_type": "code",
   "execution_count": 51,
   "metadata": {},
   "outputs": [],
   "source": [
    "y_predicted = classifier.predict(X_test)"
   ]
  },
  {
   "cell_type": "code",
   "execution_count": 52,
   "metadata": {},
   "outputs": [
    {
     "data": {
      "text/plain": [
       "array([[2129,  620],\n",
       "       [ 485, 1580]], dtype=int64)"
      ]
     },
     "execution_count": 52,
     "metadata": {},
     "output_type": "execute_result"
    }
   ],
   "source": [
    "confusion_matrix_result = confusion_matrix(y_test,y_predicted)\n",
    "confusion_matrix_result"
   ]
  },
  {
   "cell_type": "code",
   "execution_count": 53,
   "metadata": {},
   "outputs": [
    {
     "data": {
      "image/png": "[encoded data removed]",
      "text/plain": [
       "<Figure size 800x600 with 2 Axes>"
      ]
     },
     "metadata": {},
     "output_type": "display_data"
    }
   ],
   "source": [
    "labels = ['Not spam','Spam']\n",
    "plt.figure(figsize=(8,6))\n",
    "sns.heatmap(confusion_matrix_result,annot=True,cmap='Reds',fmt='.0f',xticklabels=labels,yticklabels=labels)\n",
    "plt.xlabel('Predicted values')\n",
    "plt.ylabel('Actual values')\n",
    "plt.show()"
   ]
  },
  {
   "cell_type": "code",
   "execution_count": 54,
   "metadata": {},
   "outputs": [
    {
     "name": "stdout",
     "output_type": "stream",
     "text": [
      "              precision    recall  f1-score   support\n",
      "\n",
      "           0       0.81      0.77      0.79      2749\n",
      "           1       0.72      0.77      0.74      2065\n",
      "\n",
      "    accuracy                           0.77      4814\n",
      "   macro avg       0.77      0.77      0.77      4814\n",
      "weighted avg       0.77      0.77      0.77      4814\n",
      "\n"
     ]
    }
   ],
   "source": [
    "classification_report_result = classification_report(y_test,y_predicted)\n",
    "print(classification_report_result)"
   ]
  },
  {
   "attachments": {},
   "cell_type": "markdown",
   "metadata": {},
   "source": [
    "## TF - IDF"
   ]
  },
  {
   "cell_type": "code",
   "execution_count": 55,
   "metadata": {},
   "outputs": [],
   "source": [
    "X_train, X_test, y_train, y_test = train_test_split(df_cv_TFIDF, df_final[\"Spam\"], train_size=0.7,test_size=0.3,random_state=0)"
   ]
  },
  {
   "cell_type": "code",
   "execution_count": 56,
   "metadata": {},
   "outputs": [
    {
     "name": "stdout",
     "output_type": "stream",
     "text": [
      "Score:  0.8329871208973826\n"
     ]
    }
   ],
   "source": [
    "classifier = MultinomialNB()\n",
    "classifier.fit(X_train,y_train)\n",
    "print('Score: ',classifier.score(X_test,y_test))"
   ]
  },
  {
   "cell_type": "code",
   "execution_count": 57,
   "metadata": {},
   "outputs": [
    {
     "data": {
      "text/plain": [
       "array([0.83385254, 0.83489097, 0.83489097, 0.80996885, 0.83056133])"
      ]
     },
     "execution_count": 57,
     "metadata": {},
     "output_type": "execute_result"
    }
   ],
   "source": [
    "cross_val_score(classifier,X_test,y_test)"
   ]
  },
  {
   "cell_type": "code",
   "execution_count": 58,
   "metadata": {},
   "outputs": [],
   "source": [
    "y_predicted = classifier.predict(X_test)"
   ]
  },
  {
   "cell_type": "code",
   "execution_count": 59,
   "metadata": {},
   "outputs": [
    {
     "data": {
      "text/plain": [
       "array([[2420,  329],\n",
       "       [ 475, 1590]], dtype=int64)"
      ]
     },
     "execution_count": 59,
     "metadata": {},
     "output_type": "execute_result"
    }
   ],
   "source": [
    "confusion_matrix_result = confusion_matrix(y_test,y_predicted)\n",
    "confusion_matrix_result"
   ]
  },
  {
   "cell_type": "code",
   "execution_count": 60,
   "metadata": {},
   "outputs": [
    {
     "data": {
      "image/png": "[encoded data removed]",
      "text/plain": [
       "<Figure size 800x600 with 2 Axes>"
      ]
     },
     "metadata": {},
     "output_type": "display_data"
    }
   ],
   "source": [
    "labels = ['Not spam','Spam']\n",
    "plt.figure(figsize=(8,6))\n",
    "sns.heatmap(confusion_matrix_result,annot=True,cmap='Reds',fmt='.0f',xticklabels=labels,yticklabels=labels)\n",
    "plt.xlabel('Predicted values')\n",
    "plt.ylabel('Actual values')\n",
    "plt.show()"
   ]
  },
  {
   "cell_type": "code",
   "execution_count": 61,
   "metadata": {},
   "outputs": [
    {
     "name": "stdout",
     "output_type": "stream",
     "text": [
      "              precision    recall  f1-score   support\n",
      "\n",
      "           0       0.84      0.88      0.86      2749\n",
      "           1       0.83      0.77      0.80      2065\n",
      "\n",
      "    accuracy                           0.83      4814\n",
      "   macro avg       0.83      0.83      0.83      4814\n",
      "weighted avg       0.83      0.83      0.83      4814\n",
      "\n"
     ]
    }
   ],
   "source": [
    "classification_report_result = classification_report(y_test,y_predicted)\n",
    "print(classification_report_result)"
   ]
  },
  {
   "attachments": {},
   "cell_type": "markdown",
   "metadata": {},
   "source": [
    "## Conclusion"
   ]
  },
  {
   "attachments": {},
   "cell_type": "markdown",
   "metadata": {},
   "source": [
    "Compare los valores para cada modelo de representación numérico. ¿Qué modelo produjo el mejor \n",
    "resultado, BoG o TF-IDF? ¿A que se debe la mejora? Explique los valores obtenidos en las métricas \n",
    "para el mejor modelo. "
   ]
  },
  {
   "attachments": {},
   "cell_type": "markdown",
   "metadata": {},
   "source": [
    "Comparando todas las metricas y haciendo especial enfasis en la metrica f1-score, el modelo TF-IDF es el que mejor resultado obtuvo. Esta mejora se debe a que el modelo TF-IDF es un método que nos da una ponderación numérica de las palabras que refleja la importancia de una palabra en particular para un documento en un corpus, es decir, en una colección de documentos permitiendo que las palabras mas y menos comunes tomen mas peso. En este modelo la informacion del contexto no se tiene mientras que los otros modelos retienen el contexto."
   ]
  },
  {
   "attachments": {},
   "cell_type": "markdown",
   "metadata": {},
   "source": [
    "Podemos observar las 3 principales metricas, precision, recall y f1-score\n",
    "\n",
    "- precision: Es el porcentaje de predicciones positivas correctas respecto al total de predicciones positivas. En este caso fue de 0.83 siendo este un resultado preciso, pero que puede mejorarse, y nos indica que el modelo en un 83% de casos detecto correctamente spam.\n",
    "\n",
    "- recall: Es el porcentaje de predicciones positivas correctas en relación con el total de positivos reales. Nos indica que de todas las palabras, el modelo predijo correctamente el resultado en un 83% de los casos.\n",
    "\n",
    "- f1-score: Es unana media armónica ponderada de precisión y recall. Cuanto más cerca de 1, mejor es el modelo. En este caso vemos que es bastante cercana a 1 por lo que podriamos afirmar que el modelo es bueno."
   ]
  }
 ],
 "metadata": {
  "kernelspec": {
   "display_name": "Python 3",
   "language": "python",
   "name": "python3"
  },
  "language_info": {
   "codemirror_mode": {
    "name": "ipython",
    "version": 3
   },
   "file_extension": ".py",
   "mimetype": "text/x-python",
   "name": "python",
   "nbconvert_exporter": "python",
   "pygments_lexer": "ipython3",
   "version": "3.10.9"
  },
  "orig_nbformat": 4,
  "vscode": {
   "interpreter": {
    "hash": "e593ac106456af50ce7af38f9671c411b49d6cd90f9b885e167f0f594e09038c"
   }
  }
 },
 "nbformat": 4,
 "nbformat_minor": 2
}
